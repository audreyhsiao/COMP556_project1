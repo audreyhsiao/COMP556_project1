{
 "cells": [
  {
   "cell_type": "code",
   "execution_count": 4,
   "id": "92dcaa78",
   "metadata": {},
   "outputs": [],
   "source": [
    "import numpy as np"
   ]
  },
  {
   "cell_type": "code",
   "execution_count": 7,
   "id": "2749d4f8",
   "metadata": {},
   "outputs": [
    {
     "name": "stdout",
     "output_type": "stream",
     "text": [
      "Differences between time 1 and time 2: (0.0, -41.0)\n",
      "Differences between time 3 and time 4: (0.0, -90.0)\n",
      "Differences between time 5 and time 6: (0.0, -967.0)\n",
      "Differences between time 7 and time 8: (0.0, -99.0)\n",
      "Differences between time 9 and time 10: (0.0, -845.0)\n",
      "Differences between time 11 and time 12: (0.0, -55.0)\n",
      "Differences between time 13 and time 14: (0.0, -1034.0)\n",
      "Differences between time 15 and time 16: (0.0, -35.0)\n",
      "Differences between time 17 and time 18: (0.0, -567.0)\n",
      "Differences between time 19 and time 20: (0.0, -5582.0)\n",
      "Differences between time 21 and time 22: (0.0, -573.0)\n",
      "Differences between time 23 and time 24: (0.0, -74.0)\n",
      "Differences between time 25 and time 26: (0.0, -719.0)\n",
      "Differences between time 27 and time 28: (0.0, -47.0)\n",
      "Differences between time 29 and time 30: (0.0, -695.0)\n",
      "Differences between time 31 and time 32: (0.0, -34.0)\n",
      "Differences between time 33 and time 34: (0.0, -207.0)\n",
      "Differences between time 35 and time 36: (0.0, -644.0)\n",
      "Differences between time 37 and time 38: (0.0, -5646.0)\n",
      "Differences between time 39 and time 40: (0.0, -838.0)\n",
      "Differences between time 41 and time 42: (0.0, -755.0)\n",
      "Differences between time 43 and time 44: (0.0, -785.0)\n",
      "Differences between time 45 and time 46: (0.0, -1727.0)\n",
      "Differences between time 47 and time 48: (0.0, -1012.0)\n",
      "Differences between time 49 and time 50: (0.0, -916.0)\n",
      "Differences between time 51 and time 52: (0.0, -724.0)\n",
      "Differences between time 53 and time 54: (0.0, -644.0)\n",
      "Differences between time 55 and time 56: (0.0, -737.0)\n",
      "Differences between time 57 and time 58: (0.0, -800.0)\n",
      "Differences between time 59 and time 60: (0.0, -671.0)\n",
      "Differences between time 61 and time 62: (0.0, -755.0)\n",
      "Differences between time 63 and time 64: (0.0, -26.0)\n",
      "Differences between time 65 and time 66: (0.0, -33.0)\n",
      "Differences between time 67 and time 68: (0.0, -672.0)\n",
      "Differences between time 69 and time 70: (0.0, -763.0)\n",
      "Differences between time 71 and time 72: (0.0, -754.0)\n",
      "Differences between time 73 and time 74: (0.0, -790.0)\n",
      "Differences between time 75 and time 76: (0.0, -704.0)\n",
      "Differences between time 77 and time 78: (0.0, -607.0)\n",
      "Differences between time 79 and time 80: (0.0, -933.0)\n",
      "Differences between time 81 and time 82: (0.0, -645.0)\n",
      "Differences between time 83 and time 84: (0.0, -690.0)\n",
      "Differences between time 85 and time 86: (0.0, -536.0)\n",
      "Differences between time 87 and time 88: (0.0, -536.0)\n",
      "Differences between time 89 and time 90: (0.0, -611.0)\n",
      "Differences between time 91 and time 92: (0.0, -653.0)\n",
      "Differences between time 93 and time 94: (0.0, -796.0)\n",
      "Differences between time 95 and time 96: (0.0, -103.0)\n",
      "Differences between time 97 and time 98: (0.0, -764.0)\n",
      "Differences between time 99 and time 100: (0.0, -723.0)\n",
      "Differences between time 101 and time 102: (0.0, -664.0)\n",
      "Differences between time 103 and time 104: (0.0, -601.0)\n",
      "Differences between time 105 and time 106: (0.0, -846.0)\n",
      "Differences between time 107 and time 108: (0.0, -776.0)\n",
      "Differences between time 109 and time 110: (0.0, -564.0)\n",
      "Differences between time 111 and time 112: (0.0, -706.0)\n",
      "Differences between time 113 and time 114: (0.0, -810.0)\n",
      "Differences between time 115 and time 116: (0.0, -949.0)\n",
      "Differences between time 117 and time 118: (0.0, -1174.0)\n",
      "Differences between time 119 and time 120: (0.0, -680.0)\n",
      "Differences between time 121 and time 122: (0.0, -790.0)\n",
      "Differences between time 123 and time 124: (0.0, -825.0)\n"
     ]
    }
   ],
   "source": [
    "import numpy as np\n",
    "with open('timeRecord.txt', 'r') as file:\n",
    "    lines = file.readlines()\n",
    "\n",
    "results = []\n",
    "for i in range(0, len(lines), 2):\n",
    "    if i + 1 < len(lines): \n",
    "        a1 = [float(x) for x in lines[i].strip().split(',')]\n",
    "        a2 = [float(x) for x in lines[i + 1].strip().split(',')]\n",
    "        differences = tuple(second - first for first, second in zip(a1, a2))\n",
    "        print(f'Differences between time {i+1} and time {i+2}: {differences}')\n",
    "        \n",
    "        result = differences[0] * 1000000 + differences[1]\n",
    "        results.append(result)\n",
    "\n",
    "print(sum(np.abs(results)))\n",
    "print(sum(np.abs(results))/len(results))\n"
   ]
  },
  {
   "cell_type": "code",
   "execution_count": 6,
   "id": "fb7578db",
   "metadata": {},
   "outputs": [
    {
     "name": "stdout",
     "output_type": "stream",
     "text": [
      "49042.0\n",
      "791.0\n"
     ]
    }
   ],
   "source": [
    "print(sum(np.abs(results)))\n",
    "print(sum(np.abs(results))/len(results))"
   ]
  },
  {
   "cell_type": "code",
   "execution_count": null,
   "id": "d01bd090",
   "metadata": {},
   "outputs": [],
   "source": []
  }
 ],
 "metadata": {
  "kernelspec": {
   "display_name": "Python 3 (ipykernel)",
   "language": "python",
   "name": "python3"
  },
  "language_info": {
   "codemirror_mode": {
    "name": "ipython",
    "version": 3
   },
   "file_extension": ".py",
   "mimetype": "text/x-python",
   "name": "python",
   "nbconvert_exporter": "python",
   "pygments_lexer": "ipython3",
   "version": "3.9.13"
  }
 },
 "nbformat": 4,
 "nbformat_minor": 5
}
