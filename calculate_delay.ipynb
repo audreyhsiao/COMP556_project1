{
 "cells": [
  {
   "cell_type": "code",
   "execution_count": 1,
   "id": "92dcaa78",
   "metadata": {},
   "outputs": [],
   "source": [
    "import numpy as np"
   ]
  },
  {
   "cell_type": "code",
   "execution_count": 2,
   "id": "2749d4f8",
   "metadata": {},
   "outputs": [],
   "source": [
    "def calculate_delay(filename):\n",
    "    with open(filename, 'r') as file:\n",
    "        lines = file.readlines()\n",
    "\n",
    "    results = []\n",
    "    for i in range(0, len(lines), 2):\n",
    "        if i + 1 < len(lines): \n",
    "            a1 = [float(x) for x in lines[i].strip().split(',')]\n",
    "            a2 = [float(x) for x in lines[i + 1].strip().split(',')]\n",
    "            differences = tuple(second - first for first, second in zip(a1, a2))\n",
    "            # print(f'Differences between time {i+1} and time {i+2}: {differences}')\n",
    "            \n",
    "            result = differences[0] * 1000000 + differences[1]\n",
    "            results.append(result)\n",
    "    return sum(np.abs(results))/len(results)\n"
   ]
  },
  {
   "cell_type": "code",
   "execution_count": 3,
   "id": "fb7578db",
   "metadata": {},
   "outputs": [
    {
     "name": "stdout",
     "output_type": "stream",
     "text": [
      "Approximated Transmission independent delay: 723.4274\n"
     ]
    }
   ],
   "source": [
    "print(f\"Approximated Transmission independent delay: {calculate_delay('IndependentDelay.txt')}\")"
   ]
  },
  {
   "cell_type": "code",
   "execution_count": 5,
   "id": "d01bd090",
   "metadata": {},
   "outputs": [
    {
     "name": "stdout",
     "output_type": "stream",
     "text": [
      "Approximated Transmission independent delay: 4201.42\n",
      "Average Round Trip Time: 15026.1229\n",
      "Average Server processing time: 10748.093\n"
     ]
    }
   ],
   "source": [
    "print(f\"Approximated Transmission independent delay: {calculate_delay('IndependentDelay.txt')}\")\n",
    "print(f\"Average Round Trip Time: {calculate_delay('RoundTripTime.txt')}\")\n",
    "print(f\"Average Server processing time: {calculate_delay('ServerProcessTime.txt')}\")"
   ]
  }
 ],
 "metadata": {
  "kernelspec": {
   "display_name": "Python 3 (ipykernel)",
   "language": "python",
   "name": "python3"
  },
  "language_info": {
   "codemirror_mode": {
    "name": "ipython",
    "version": 3
   },
   "file_extension": ".py",
   "mimetype": "text/x-python",
   "name": "python",
   "nbconvert_exporter": "python",
   "pygments_lexer": "ipython3",
   "version": "3.6.8"
  }
 },
 "nbformat": 4,
 "nbformat_minor": 5
}
