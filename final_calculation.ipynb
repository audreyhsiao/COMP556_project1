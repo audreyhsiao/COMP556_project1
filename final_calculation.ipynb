{
 "cells": [
  {
   "cell_type": "code",
   "execution_count": 21,
   "id": "438fc4f3",
   "metadata": {
    "scrolled": true
   },
   "outputs": [],
   "source": [
    "from sklearn.linear_model import LinearRegression\n",
    "import numpy as np\n",
    "import matplotlib.pyplot as plt\n",
    "from collections import defaultdict\n",
    "\n",
    "\n",
    "x_to_y = defaultdict(list)\n",
    "x = []\n",
    "y = []\n",
    "# Open and read the file\n",
    "with open('delay.txt', 'r') as file:\n",
    "    lines = file.readlines()\n",
    "\n",
    "x_to_y = dict()\n",
    "# Ensure the loop is reading correctly and appending values\n",
    "for i in range(0, len(lines), 3):\n",
    "    if i + 2 < len(lines):  # Check if the next two lines exist\n",
    "        # Convert first two lines into float tuples\n",
    "        a1 = [float(val) for val in lines[i].strip().split(',')]\n",
    "        a2 = [float(val) for val in lines[i + 1].strip().split(',')]\n",
    "        a3 = lines[i + 2].strip()  # Get the third line, size value (x)\n",
    "\n",
    "        # Ensure a3 is not empty or malformed\n",
    "        if a3 != '':\n",
    "            a3 = int(a3)  # Convert the third value to float (x)\n",
    "\n",
    "            # Calculate the differences between first and second line\n",
    "            differences = tuple(first - second for first, second in zip(a1, a2))\n",
    "\n",
    "            # Calculate the result (y value): a * 1000000 + b\n",
    "            res = differences[0] * 1000000 + differences[1]\n",
    "            \n",
    "            # clear outliers\n",
    "            if res >= 500 and res <= 3000:\n",
    "                if a3 not in x_to_y:\n",
    "#                     x.append(a3)\n",
    "#                     y.append(res)\n",
    "                    x_to_y[a3] = []\n",
    "                x_to_y[a3].append(res)\n",
    "                \n",
    "for a,b in x_to_y.items():\n",
    "    x.append(a)\n",
    "    y.append(np.mean(b))\n",
    "    \n",
    "\n"
   ]
  },
  {
   "cell_type": "code",
   "execution_count": 26,
   "id": "01cddef2",
   "metadata": {},
   "outputs": [
    {
     "name": "stdout",
     "output_type": "stream",
     "text": [
      "Linear Regression Parameters: \n",
      "Slope (a): 0.007565673267077199\n",
      "Intercept (b): 699.5000691996531\n",
      "\n",
      "Bandwidth/Delay calculation from parameters:\n",
      "Approixmated bandwidth: 1057.4075455799575 Mbps\n",
      "Data size and transmission independent delay/propagation delay: 699.5000691996531 microsecond\n"
     ]
    }
   ],
   "source": [
    "model = LinearRegression()\n",
    "\n",
    "\n",
    "x = np.array(x).reshape(-1,1)\n",
    "y = np.array(y)\n",
    "\n",
    "\n",
    "# Remove the outliers from x and y\n",
    "\n",
    "model.fit(x, y)\n",
    "\n",
    "a = model.coef_[0]\n",
    "b = model.intercept_\n",
    "\n",
    "print(\"Linear Regression Parameters: \")\n",
    "print(f\"Slope (a): {a}\")\n",
    "print(f\"Intercept (b): {b}\\n\")\n",
    "\n",
    "print(\"Bandwidth/Delay calculation from parameters:\")\n",
    "print(f\"Approixmated bandwidth: {8/a} Mbps\")\n",
    "print(f\"Data size and transmission independent delay/propagation delay: {b} microsecond\")"
   ]
  },
  {
   "cell_type": "code",
   "execution_count": 28,
   "id": "77584015",
   "metadata": {
    "scrolled": true
   },
   "outputs": [
    {
     "data": {
      "image/png": "[encoded data removed]",
      "text/plain": [
       "<Figure size 432x288 with 1 Axes>"
      ]
     },
     "metadata": {
      "needs_background": "light"
     },
     "output_type": "display_data"
    }
   ],
   "source": [
    "# Predict y values based on the fitted model\n",
    "y_pred = model.predict(x)\n",
    "\n",
    "\n",
    "plt.scatter(x, y, color='blue', label='Data points')\n",
    "\n",
    "# Plot the linear regression line (fitted)\n",
    "plt.plot(x, y_pred, color='red', label='Linear regression')\n",
    "\n",
    "# Add labels and a title\n",
    "plt.xlabel('Data Size (byte)')\n",
    "plt.ylabel('Delivery Time (microseconds)')\n",
    "plt.title('Delivery Time vs Data Size')\n",
    "\n",
    "# Display the legend\n",
    "plt.legend()\n",
    "plt.show()"
   ]
  }
 ],
 "metadata": {
  "kernelspec": {
   "display_name": "Python 3 (ipykernel)",
   "language": "python",
   "name": "python3"
  },
  "language_info": {
   "codemirror_mode": {
    "name": "ipython",
    "version": 3
   },
   "file_extension": ".py",
   "mimetype": "text/x-python",
   "name": "python",
   "nbconvert_exporter": "python",
   "pygments_lexer": "ipython3",
   "version": "3.9.12"
  }
 },
 "nbformat": 4,
 "nbformat_minor": 5
}
